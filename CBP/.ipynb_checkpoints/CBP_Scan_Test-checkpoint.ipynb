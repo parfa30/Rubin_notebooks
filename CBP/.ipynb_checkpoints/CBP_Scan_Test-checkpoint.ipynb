{
 "cells": [
  {
   "cell_type": "markdown",
   "id": "07c3a109-022c-4bed-b4f9-47bec6558d99",
   "metadata": {},
   "source": [
    "# CBP Scan"
   ]
  },
  {
   "cell_type": "markdown",
   "id": "1d8eebe4-48ed-4eec-8647-23eb16281007",
   "metadata": {},
   "source": [
    "This notebook is used to test the python scripts that will eventually be used, i.e. measure_cbp_data.py, cbp_data_file.py and run_cbp_measurement.py"
   ]
  },
  {
   "cell_type": "code",
   "execution_count": 33,
   "id": "1d7a1197-ae5e-417d-822a-f11ab26c36f6",
   "metadata": {},
   "outputs": [],
   "source": [
    "from astropy.io import fits\n",
    "import astropy.stats\n",
    "import numpy as np\n",
    "import asyncio\n",
    "from scipy.optimize import curve_fit\n",
    "import matplotlib.pyplot as plt\n",
    "import csv\n",
    "import yaml\n",
    "import pandas as pd\n",
    "\n",
    "from lsst.ts import salobj\n",
    "from lsst_efd_client import EfdClient, resample\n",
    "from astropy.time import Time, TimeDelta"
   ]
  },
  {
   "cell_type": "markdown",
   "id": "fe33f1fc-7e3e-41cf-a1dc-bfa8efee62e5",
   "metadata": {},
   "source": [
    "## Configure System"
   ]
  },
  {
   "cell_type": "code",
   "execution_count": 14,
   "id": "a6de1404-6eb0-41db-9985-8c46da68a5d9",
   "metadata": {},
   "outputs": [],
   "source": [
    "config_file = 'test_config.yaml'"
   ]
  },
  {
   "cell_type": "code",
   "execution_count": 20,
   "id": "9c3650f6-9af0-4dba-8bf7-7323da2b8db7",
   "metadata": {},
   "outputs": [],
   "source": [
    "async def Configure(config_file):\n",
    "    d = open(config_file,'r')\n",
    "    config = yaml.safe_load(d)\n",
    "    csc_ = {}\n",
    "    domain = salobj.Domain()\n",
    "    include_cscs = config[\"GENERAL\"][\"CSC_INCLUDE\"]\n",
    "    \n",
    "    #Create remote objects\n",
    "    for csc_name in include_cscs:\n",
    "        if config[csc_name]['ID'] == 'None':\n",
    "            csc_[csc_name] = salobj.Remote(name=config[csc_name]['NAME'], domain=domain)\n",
    "        else:\n",
    "            csc_[csc_name] = salobj.Remote(name=config[csc_name]['NAME'], domain=domain, index=config[csc_name]['ID']) \n",
    "    \n",
    "    #Start and Enable CSC\n",
    "    for name, csc in csc_.items():\n",
    "        try:\n",
    "            await csc.start_task\n",
    "            await salobj.set_summary_state(csc, salobj.State.ENABLED, override=config[name]['OVERRIDE'], timeout=20)\n",
    "        except:\n",
    "            print(\"Couldn't enable CSC {}\".format(name))\n",
    "\n",
    "    #Configure Electrometers\n",
    "    for elec_name in ['SC_ELEC','CBP_ELEC']:\n",
    "        if elec_name in include_cscs:\n",
    "            try:\n",
    "                elec = csc_[elec_name]\n",
    "                await elec.cmd_setIntegrationTime.set_start(intTime=float(config[elec_name]['INTTIME']))\n",
    "                await elec.cmd_setMode.set_start(mode=int(config[elec_name]['MODE']))\n",
    "                await elec.cmd_setRange.set_start(setRange=float(config[elec_name]['RANGE']))\n",
    "                await elec.cmd_performZeroCalib.set_start(timeout=10)\n",
    "                await elec.cmd_setDigitalFilter.set_start(activateFilter=False, activateAvgFilter=False, activateMedFilter=False, timeout=10)\n",
    "            except Exception as e:\n",
    "                print(\"Error configuring the electrometer {}\".format(elec_name), e)\n",
    "                \n",
    "    #Configure Laser\n",
    "    if 'LASER' in include_cscs:\n",
    "        try:\n",
    "            await csc_['LASER'].cmd_changeWavelength.set_start(wavelength=config['LASER']['WAVELENGTH'])\n",
    "            #Set power and burst? Might be in the config file\n",
    "        except Exception as e:\n",
    "            print(\"Error configuring the laser {}\".format(elec_name), e)\n",
    "        \n",
    "    #Configure CBP\n",
    "    if 'CBP' in include_cscs:\n",
    "        try:\n",
    "            print('here')\n",
    "            await csc_['CBP'].cmd_move.set_start(azimuth=float(config['CBP']['AZ']), elevation=float(config['CBP']['ALT']))\n",
    "            await csc_['CBP'].cmd_setFocus.set_start(focus=float(config['CBP']['FOCUS']))\n",
    "            await csc_['CBP'].cmd_changeMask.set_start(mask=str(config['CBP']['MASK']))\n",
    "        except Exception as e:\n",
    "            print(\"Error configuring the CBP\".format(elec_name), e)\n",
    "            \n",
    "    return csc_\n",
    "    \n",
    "    "
   ]
  },
  {
   "cell_type": "code",
   "execution_count": 21,
   "id": "ea0cbd1d-335c-4e95-ba2e-5aaec9ceef96",
   "metadata": {},
   "outputs": [
    {
     "data": {
      "text/html": [
       "<pre style=\"margin: 0.1em;\n",
       "padding-left: 0.25em;\n",
       "border-left-style: solid;\n",
       "font-family: var(--jp-code-font-family);\n",
       "font-size: var(--jp-code-font-size);\n",
       "line-height: var(--jp-code-line-height);\n",
       "\"><span style=\"color: var(--jp-warn-color2)\">CBP</span> <span style=\"color: var(--jp-info-color0)\">INFO</span>: Disabling authlist-based command authorization</pre>"
      ],
      "text/plain": [
       "<IPython.core.display.HTML object>"
      ]
     },
     "metadata": {},
     "output_type": "display_data"
    },
    {
     "data": {
      "text/html": [
       "<pre style=\"margin: 0.1em;\n",
       "padding-left: 0.25em;\n",
       "border-left-style: solid;\n",
       "font-family: var(--jp-code-font-family);\n",
       "font-size: var(--jp-code-font-size);\n",
       "line-height: var(--jp-code-line-height);\n",
       "\"><span style=\"color: var(--jp-warn-color2)\">Electrometer</span> <span style=\"color: var(--jp-info-color0)\">INFO</span>: Disabling authlist-based command authorization</pre>"
      ],
      "text/plain": [
       "<IPython.core.display.HTML object>"
      ]
     },
     "metadata": {},
     "output_type": "display_data"
    },
    {
     "data": {
      "text/html": [
       "<pre style=\"margin: 0.1em;\n",
       "padding-left: 0.25em;\n",
       "border-left-style: solid;\n",
       "font-family: var(--jp-code-font-family);\n",
       "font-size: var(--jp-code-font-size);\n",
       "line-height: var(--jp-code-line-height);\n",
       "\"><span style=\"color: var(--jp-warn-color2)\">Electrometer</span> <span style=\"color: var(--jp-info-color0)\">INFO</span>: Disabling authlist-based command authorization</pre>"
      ],
      "text/plain": [
       "<IPython.core.display.HTML object>"
      ]
     },
     "metadata": {},
     "output_type": "display_data"
    },
    {
     "data": {
      "text/html": [
       "<pre style=\"margin: 0.1em;\n",
       "padding-left: 0.25em;\n",
       "border-left-style: solid;\n",
       "font-family: var(--jp-code-font-family);\n",
       "font-size: var(--jp-code-font-size);\n",
       "line-height: var(--jp-code-line-height);\n",
       "\"><span style=\"color: var(--jp-warn-color2)\">CBP</span> <span style=\"color: var(--jp-info-color0)\">INFO</span>: Read historical data in 0.00 sec</pre>"
      ],
      "text/plain": [
       "<IPython.core.display.HTML object>"
      ]
     },
     "metadata": {},
     "output_type": "display_data"
    },
    {
     "data": {
      "text/html": [
       "<pre style=\"margin: 0.1em;\n",
       "padding-left: 0.25em;\n",
       "border-left-style: solid;\n",
       "font-family: var(--jp-code-font-family);\n",
       "font-size: var(--jp-code-font-size);\n",
       "line-height: var(--jp-code-line-height);\n",
       "\"><span style=\"color: var(--jp-warn-color2)\">Electrometer</span> <span style=\"color: var(--jp-info-color0)\">INFO</span>: Read historical data in 0.02 sec</pre>"
      ],
      "text/plain": [
       "<IPython.core.display.HTML object>"
      ]
     },
     "metadata": {},
     "output_type": "display_data"
    },
    {
     "data": {
      "text/html": [
       "<pre style=\"margin: 0.1em;\n",
       "padding-left: 0.25em;\n",
       "border-left-style: solid;\n",
       "font-family: var(--jp-code-font-family);\n",
       "font-size: var(--jp-code-font-size);\n",
       "line-height: var(--jp-code-line-height);\n",
       "\"><span style=\"color: var(--jp-warn-color2)\">Electrometer</span> <span style=\"color: var(--jp-info-color0)\">INFO</span>: Read historical data in 0.03 sec</pre>"
      ],
      "text/plain": [
       "<IPython.core.display.HTML object>"
      ]
     },
     "metadata": {},
     "output_type": "display_data"
    },
    {
     "data": {
      "text/html": [
       "<pre style=\"margin: 0.1em;\n",
       "padding-left: 0.25em;\n",
       "border-left-style: solid;\n",
       "font-family: var(--jp-code-font-family);\n",
       "font-size: var(--jp-code-font-size);\n",
       "line-height: var(--jp-code-line-height);\n",
       "\"><span style=\"color: var(--jp-warn-color2)\">CBP.logevent_logMessage</span> <span style=\"color: var(--jp-warn-color0)\">WARNING</span>: evt_logMessage DDS read queue is filling: 12 of 100 elements</pre>"
      ],
      "text/plain": [
       "<IPython.core.display.HTML object>"
      ]
     },
     "metadata": {},
     "output_type": "display_data"
    },
    {
     "data": {
      "text/html": [
       "<pre style=\"margin: 0.1em;\n",
       "padding-left: 0.25em;\n",
       "border-left-style: solid;\n",
       "font-family: var(--jp-code-font-family);\n",
       "font-size: var(--jp-code-font-size);\n",
       "line-height: var(--jp-code-line-height);\n",
       "\"><span style=\"color: var(--jp-warn-color2)\">CBP.logevent_logMessage</span> <span style=\"color: var(--jp-warn-color0)\">WARNING</span>: evt_logMessage DDS read queue is filling: 12 of 100 elements</pre>"
      ],
      "text/plain": [
       "<IPython.core.display.HTML object>"
      ]
     },
     "metadata": {},
     "output_type": "display_data"
    },
    {
     "data": {
      "text/html": [
       "<pre style=\"margin: 0.1em;\n",
       "padding-left: 0.25em;\n",
       "border-left-style: solid;\n",
       "font-family: var(--jp-code-font-family);\n",
       "font-size: var(--jp-code-font-size);\n",
       "line-height: var(--jp-code-line-height);\n",
       "\"><span style=\"color: var(--jp-warn-color2)\">CBP.logevent_logMessage</span> <span style=\"color: var(--jp-warn-color0)\">WARNING</span>: evt_logMessage DDS read queue is filling: 12 of 100 elements</pre>"
      ],
      "text/plain": [
       "<IPython.core.display.HTML object>"
      ]
     },
     "metadata": {},
     "output_type": "display_data"
    },
    {
     "data": {
      "text/html": [
       "<pre style=\"margin: 0.1em;\n",
       "padding-left: 0.25em;\n",
       "border-left-style: solid;\n",
       "font-family: var(--jp-code-font-family);\n",
       "font-size: var(--jp-code-font-size);\n",
       "line-height: var(--jp-code-line-height);\n",
       "\"><span style=\"color: var(--jp-warn-color2)\">CBP.logevent_logMessage</span> <span style=\"color: var(--jp-warn-color0)\">WARNING</span>: evt_logMessage DDS read queue is filling: 12 of 100 elements</pre>"
      ],
      "text/plain": [
       "<IPython.core.display.HTML object>"
      ]
     },
     "metadata": {},
     "output_type": "display_data"
    },
    {
     "data": {
      "text/html": [
       "<pre style=\"margin: 0.1em;\n",
       "padding-left: 0.25em;\n",
       "border-left-style: solid;\n",
       "font-family: var(--jp-code-font-family);\n",
       "font-size: var(--jp-code-font-size);\n",
       "line-height: var(--jp-code-line-height);\n",
       "\"><span style=\"color: var(--jp-warn-color2)\">CBP.logevent_logMessage</span> <span style=\"color: var(--jp-warn-color0)\">WARNING</span>: evt_logMessage DDS read queue is filling: 12 of 100 elements</pre>"
      ],
      "text/plain": [
       "<IPython.core.display.HTML object>"
      ]
     },
     "metadata": {},
     "output_type": "display_data"
    },
    {
     "data": {
      "text/html": [
       "<pre style=\"margin: 0.1em;\n",
       "padding-left: 0.25em;\n",
       "border-left-style: solid;\n",
       "font-family: var(--jp-code-font-family);\n",
       "font-size: var(--jp-code-font-size);\n",
       "line-height: var(--jp-code-line-height);\n",
       "\"><span style=\"color: var(--jp-warn-color2)\">CBP.logevent_logMessage</span> <span style=\"color: var(--jp-warn-color0)\">WARNING</span>: evt_logMessage DDS read queue is filling: 12 of 100 elements</pre>"
      ],
      "text/plain": [
       "<IPython.core.display.HTML object>"
      ]
     },
     "metadata": {},
     "output_type": "display_data"
    },
    {
     "data": {
      "text/html": [
       "<pre style=\"margin: 0.1em;\n",
       "padding-left: 0.25em;\n",
       "border-left-style: solid;\n",
       "font-family: var(--jp-code-font-family);\n",
       "font-size: var(--jp-code-font-size);\n",
       "line-height: var(--jp-code-line-height);\n",
       "\"><span style=\"color: var(--jp-warn-color2)\">CBP.logevent_logMessage</span> <span style=\"color: var(--jp-warn-color0)\">WARNING</span>: evt_logMessage DDS read queue is filling: 12 of 100 elements</pre>"
      ],
      "text/plain": [
       "<IPython.core.display.HTML object>"
      ]
     },
     "metadata": {},
     "output_type": "display_data"
    },
    {
     "data": {
      "text/html": [
       "<pre style=\"margin: 0.1em;\n",
       "padding-left: 0.25em;\n",
       "border-left-style: solid;\n",
       "font-family: var(--jp-code-font-family);\n",
       "font-size: var(--jp-code-font-size);\n",
       "line-height: var(--jp-code-line-height);\n",
       "\"><span style=\"color: var(--jp-warn-color2)\">CBP.logevent_logMessage</span> <span style=\"color: var(--jp-warn-color0)\">WARNING</span>: evt_logMessage DDS read queue is filling: 12 of 100 elements</pre>"
      ],
      "text/plain": [
       "<IPython.core.display.HTML object>"
      ]
     },
     "metadata": {},
     "output_type": "display_data"
    },
    {
     "name": "stdout",
     "output_type": "stream",
     "text": [
      "here\n",
      "Error configuring the CBP msg='Command failed', ackcmd=(ackcmd private_seqNum=801692403, ack=<SalRetCode.CMD_TIMEOUT: -304>, error=1, result='Timeout')\n"
     ]
    }
   ],
   "source": [
    "csc_items = await Configure(config_file)"
   ]
  },
  {
   "cell_type": "code",
   "execution_count": 22,
   "id": "220f4217-a3bc-431e-81c6-a4bd3266c7b1",
   "metadata": {},
   "outputs": [
    {
     "data": {
      "text/plain": [
       "{'CBP': <lsst.ts.salobj.remote.Remote at 0x7f44602713c0>,\n",
       " 'CBP_ELEC': <lsst.ts.salobj.remote.Remote at 0x7f44602b1b10>,\n",
       " 'SC_ELEC': <lsst.ts.salobj.remote.Remote at 0x7f44602b1c00>}"
      ]
     },
     "execution_count": 22,
     "metadata": {},
     "output_type": "execute_result"
    }
   ],
   "source": [
    "csc_items"
   ]
  },
  {
   "cell_type": "code",
   "execution_count": null,
   "id": "6667e4c6-c77c-46ca-811a-e871f57b197d",
   "metadata": {},
   "outputs": [],
   "source": []
  },
  {
   "cell_type": "markdown",
   "id": "4eaa0f1f-00b0-4088-9e45-7f4cf5a73810",
   "metadata": {},
   "source": [
    "## Run Measurement"
   ]
  },
  {
   "cell_type": "code",
   "execution_count": 23,
   "id": "4f9e1097-cf79-4374-b949-21958e5cbe42",
   "metadata": {},
   "outputs": [],
   "source": [
    "async def take_elec_measurement(csc_, exp_time, elec_name):\n",
    "    try:\n",
    "        tmp = await csc_[elec_name].cmd_startScan.set_start(timeout=10)\n",
    "        await asyncio.sleep(exp_time)\n",
    "        tmp = await csc_[elec_name].cmd_stopScan.set_start(timeout=10)\n",
    "    except Exception as e:\n",
    "        print('Issue with {} measurement'.format(elec_name), e)\n",
    "    \n",
    "async def spect_meas(csc_, exp_time, num_exposures):\n",
    "    try:\n",
    "        csc_['SPECTRO'].evt_largeFileObjectAvailable.flush()\n",
    "        tmp1 = await csc_['SPECTRO'].cmd_expose.set_start(duration=exp_time, numExposures=num_exposures)\n",
    "    except Exception as e:\n",
    "        print('Issue with SPECTRO measurement', e)\n"
   ]
  },
  {
   "cell_type": "code",
   "execution_count": 24,
   "id": "46206c29-e9a6-4866-9376-598eca2ce304",
   "metadata": {},
   "outputs": [],
   "source": [
    "async def TakeData(csc_, config_file):\n",
    "    d = open(config_file,'r')\n",
    "    config = yaml.safe_load(d)\n",
    "    start_time = Time.now()\n",
    "    if config['GENERAL']['LIGHT_SOURCE'] == 'LASER':\n",
    "        await csc_['LASER'].cmd_startPropagateLaser.start()\n",
    "    \n",
    "    await asyncio.gather(take_elec_measurement(csc_,config['SC_ELEC']['EXPTIME'], 'SC_ELEC'), \n",
    "                          take_elec_measurement(csc_,config['CBP_ELEC']['EXPTIME'], 'CBP_ELEC'), \n",
    "                          spect_meas(csc_,config['SPECTRO']['EXPTIME'], config['SPECTRO']['NUM_EXP']))\n",
    "    \n",
    "    if config['GENERAL']['LIGHT_SOURCE'] == 'LASER':\n",
    "        await csc_['LASER'].cmd_stopPropagateLaser.start()\n",
    "        \n",
    "    end_time = Time.now()\n",
    "    return start_time, end_time"
   ]
  },
  {
   "cell_type": "code",
   "execution_count": 25,
   "id": "119d209e-d816-4328-b9c9-9459e016f067",
   "metadata": {},
   "outputs": [
    {
     "name": "stdout",
     "output_type": "stream",
     "text": [
      "Issue with SPECTRO measurement 'SPECTRO'\n"
     ]
    }
   ],
   "source": [
    "start_time, end_time = await TakeData(csc_items, config_file)"
   ]
  },
  {
   "cell_type": "markdown",
   "id": "be2e28c6-2df4-40ee-a3b1-d62606dba5e4",
   "metadata": {},
   "source": [
    "## Get Data"
   ]
  },
  {
   "cell_type": "code",
   "execution_count": 30,
   "id": "752f25c5-0c51-4a05-9ea1-da95c52cb8b0",
   "metadata": {},
   "outputs": [
    {
     "data": {
      "text/html": [
       "<pre style=\"margin: 0.1em;\n",
       "padding-left: 0.25em;\n",
       "border-left-style: solid;\n",
       "font-family: var(--jp-code-font-family);\n",
       "font-size: var(--jp-code-font-size);\n",
       "line-height: var(--jp-code-line-height);\n",
       "\"><span style=\"color: var(--jp-warn-color2)\">CBP.logevent_logMessage</span> <span style=\"color: var(--jp-warn-color0)\">WARNING</span>: evt_logMessage DDS read queue is filling: 12 of 100 elements</pre>"
      ],
      "text/plain": [
       "<IPython.core.display.HTML object>"
      ]
     },
     "metadata": {},
     "output_type": "display_data"
    },
    {
     "data": {
      "text/html": [
       "<pre style=\"margin: 0.1em;\n",
       "padding-left: 0.25em;\n",
       "border-left-style: solid;\n",
       "font-family: var(--jp-code-font-family);\n",
       "font-size: var(--jp-code-font-size);\n",
       "line-height: var(--jp-code-line-height);\n",
       "\"><span style=\"color: var(--jp-warn-color2)\">CBP.logevent_logMessage</span> <span style=\"color: var(--jp-warn-color0)\">WARNING</span>: evt_logMessage DDS read queue is filling: 12 of 100 elements</pre>"
      ],
      "text/plain": [
       "<IPython.core.display.HTML object>"
      ]
     },
     "metadata": {},
     "output_type": "display_data"
    },
    {
     "data": {
      "text/html": [
       "<pre style=\"margin: 0.1em;\n",
       "padding-left: 0.25em;\n",
       "border-left-style: solid;\n",
       "font-family: var(--jp-code-font-family);\n",
       "font-size: var(--jp-code-font-size);\n",
       "line-height: var(--jp-code-line-height);\n",
       "\"><span style=\"color: var(--jp-warn-color2)\">CBP.logevent_logMessage</span> <span style=\"color: var(--jp-warn-color0)\">WARNING</span>: evt_logMessage DDS read queue is filling: 12 of 100 elements</pre>"
      ],
      "text/plain": [
       "<IPython.core.display.HTML object>"
      ]
     },
     "metadata": {},
     "output_type": "display_data"
    },
    {
     "data": {
      "text/html": [
       "<pre style=\"margin: 0.1em;\n",
       "padding-left: 0.25em;\n",
       "border-left-style: solid;\n",
       "font-family: var(--jp-code-font-family);\n",
       "font-size: var(--jp-code-font-size);\n",
       "line-height: var(--jp-code-line-height);\n",
       "\"><span style=\"color: var(--jp-warn-color2)\">CBP.logevent_logMessage</span> <span style=\"color: var(--jp-warn-color0)\">WARNING</span>: evt_logMessage DDS read queue is filling: 12 of 100 elements</pre>"
      ],
      "text/plain": [
       "<IPython.core.display.HTML object>"
      ]
     },
     "metadata": {},
     "output_type": "display_data"
    },
    {
     "data": {
      "text/html": [
       "<pre style=\"margin: 0.1em;\n",
       "padding-left: 0.25em;\n",
       "border-left-style: solid;\n",
       "font-family: var(--jp-code-font-family);\n",
       "font-size: var(--jp-code-font-size);\n",
       "line-height: var(--jp-code-line-height);\n",
       "\"><span style=\"color: var(--jp-warn-color2)\">CBP.logevent_logMessage</span> <span style=\"color: var(--jp-warn-color0)\">WARNING</span>: evt_logMessage DDS read queue is filling: 12 of 100 elements</pre>"
      ],
      "text/plain": [
       "<IPython.core.display.HTML object>"
      ]
     },
     "metadata": {},
     "output_type": "display_data"
    },
    {
     "data": {
      "text/html": [
       "<pre style=\"margin: 0.1em;\n",
       "padding-left: 0.25em;\n",
       "border-left-style: solid;\n",
       "font-family: var(--jp-code-font-family);\n",
       "font-size: var(--jp-code-font-size);\n",
       "line-height: var(--jp-code-line-height);\n",
       "\"><span style=\"color: var(--jp-warn-color2)\">CBP.logevent_logMessage</span> <span style=\"color: var(--jp-warn-color0)\">WARNING</span>: evt_logMessage DDS read queue is filling: 12 of 100 elements</pre>"
      ],
      "text/plain": [
       "<IPython.core.display.HTML object>"
      ]
     },
     "metadata": {},
     "output_type": "display_data"
    },
    {
     "data": {
      "text/html": [
       "<pre style=\"margin: 0.1em;\n",
       "padding-left: 0.25em;\n",
       "border-left-style: solid;\n",
       "font-family: var(--jp-code-font-family);\n",
       "font-size: var(--jp-code-font-size);\n",
       "line-height: var(--jp-code-line-height);\n",
       "\"><span style=\"color: var(--jp-warn-color2)\">CBP.logevent_logMessage</span> <span style=\"color: var(--jp-warn-color0)\">WARNING</span>: evt_logMessage DDS read queue is filling: 12 of 100 elements</pre>"
      ],
      "text/plain": [
       "<IPython.core.display.HTML object>"
      ]
     },
     "metadata": {},
     "output_type": "display_data"
    },
    {
     "data": {
      "text/html": [
       "<pre style=\"margin: 0.1em;\n",
       "padding-left: 0.25em;\n",
       "border-left-style: solid;\n",
       "font-family: var(--jp-code-font-family);\n",
       "font-size: var(--jp-code-font-size);\n",
       "line-height: var(--jp-code-line-height);\n",
       "\"><span style=\"color: var(--jp-warn-color2)\">CBP.logevent_logMessage</span> <span style=\"color: var(--jp-warn-color0)\">WARNING</span>: evt_logMessage DDS read queue is filling: 12 of 100 elements</pre>"
      ],
      "text/plain": [
       "<IPython.core.display.HTML object>"
      ]
     },
     "metadata": {},
     "output_type": "display_data"
    },
    {
     "data": {
      "text/html": [
       "<pre style=\"margin: 0.1em;\n",
       "padding-left: 0.25em;\n",
       "border-left-style: solid;\n",
       "font-family: var(--jp-code-font-family);\n",
       "font-size: var(--jp-code-font-size);\n",
       "line-height: var(--jp-code-line-height);\n",
       "\"><span style=\"color: var(--jp-warn-color2)\">CBP.logevent_logMessage</span> <span style=\"color: var(--jp-warn-color0)\">WARNING</span>: evt_logMessage DDS read queue is filling: 12 of 100 elements</pre>"
      ],
      "text/plain": [
       "<IPython.core.display.HTML object>"
      ]
     },
     "metadata": {},
     "output_type": "display_data"
    }
   ],
   "source": [
    "from lsst_efd_client import EfdClient\n",
    "client = EfdClient('tucson_teststand_efd')"
   ]
  },
  {
   "cell_type": "code",
   "execution_count": 26,
   "id": "18351397-1c42-4f81-b3af-fe122c72d90e",
   "metadata": {},
   "outputs": [],
   "source": [
    "async def getConfiguration(config_file, csc_items):\n",
    "\n",
    "    d = open(config_file,'r')\n",
    "    config = yaml.safe_load(d)\n",
    "    \n",
    "    config['GENERAL']['DISTANCE'] = 30\n",
    "    \n",
    "#     sys.exit()\n",
    "#     #Replace as read items for configure items\n",
    "#     for name, csc in csc_items.items():\n",
    "#         if name == 'CBP':\n",
    "#             #get cbp info\n",
    "#             await csc.evt_inPosition.aget()\n",
    "#             cbp_target = await csc.evt_target.aget()\n",
    "            \n",
    "#     #get laser info\n",
    "    \n",
    "#     #get cbp_elec info\n",
    "#         if name == 'CBP_ELEC':\n",
    "#             await csc.evt_integrationTime.aget()\n",
    "#             await csc.evt_measureRange.aget()\n",
    "#             await csc.evt_measureType.aget()\n",
    "#             await csc.evt_digitalFilterChange.aget()\n",
    "            \n",
    "    \n",
    "#     #get sc_elec info\n",
    "#         if name == 'SC_ELEC':\n",
    "#             await csc.evt_integrationTime.aget()\n",
    "#             await csc.evt_measureRange.aget()\n",
    "#             await csc.evt_measureType.aget()\n",
    "#             await csc.evt_digitalFilterChange.aget()\n",
    "    \n",
    "    #get spectro info\n",
    "    \n",
    "    \n",
    "    as_run_config = {}\n",
    "    for hdr, keys in config.items():\n",
    "        for name, val in keys.items():\n",
    "            as_run_config['{}_{}'.format(hdr.lower(),name.lower())] = val\n",
    "    return as_run_config"
   ]
  },
  {
   "cell_type": "code",
   "execution_count": 39,
   "id": "a6cde7a1-a720-4033-81f0-368438deae90",
   "metadata": {},
   "outputs": [],
   "source": [
    "def transfer_file(filen):\n",
    "    bashCommand = \"scp saluser@toonie.tu.lsst.org:/home/saluser/develop/electrometerFitsFiles/{} {}\".format(filen, dir_)\n",
    "    process = subprocess.Popen(bashCommand.split(), stdout=subprocess.PIPE)\n",
    "    output, error = process.communicate()\n",
    "    \n",
    "    \n",
    "async def get_elec_data(start_time, end_time, elec_name, config):\n",
    "    # Electrometer Data\n",
    "    start_log_topic = 'lsst.sal.Electrometer.command_startScan'\n",
    "    start_df =  await client.select_time_series(start_log_topic, ['salIndex'], start=start_time, end=end_time)\n",
    "    start_df['message'] = 'startScan Completed'\n",
    "    start_df['functionName'] = 'do_startScan'\n",
    "    msg_log_topic = 'lsst.sal.Electrometer.logevent_logMessage'\n",
    "    msg_df = await client.select_time_series(msg_log_topic,['salIndex','functionName','message'], start=start_time, end=end_time)\n",
    "    elec_df = pd.concat([start_df, msg_df])\n",
    "    elec_df.sort_index(inplace=True)\n",
    "    elec_df = pd.concat([start_df, msg_df])\n",
    "    elec_df.sort_index(inplace=True)\n",
    "    \n",
    "    data = []\n",
    "    e_id = config['{}_id'.format(elec_name.lower())]\n",
    "    scans = elec_df[elec_df.salIndex == e_id]\n",
    "    scans.reset_index(inplace=True)\n",
    "    if len(scans) > 0:\n",
    "        for i, row in scans.iterrows():\n",
    "            if row['functionName'] == 'write_fits_file':\n",
    "                try:\n",
    "                    file_row = scans.iloc[i]\n",
    "                    filen = file_row['message'].split(' ')[-1]\n",
    "                    transfer_file(filen)\n",
    "                    start_meas, end_meas = os.path.splitext(filen)[0].split('_')\n",
    "                    ff = os.path.join(os.path.join(config['general_data_dir'],'electrometer_files'), filen)\n",
    "                    hdu = fits.open(ff)\n",
    "                    print(hdu)\n",
    "                    edata = fits.open(ff)[0].data\n",
    "                    values = edata[1]\n",
    "                    time_delta = edata[0]\n",
    "                    meas_time = [Time(t + float(start_time) - 37, scale='tai',format='unix_tai') for t in time_delta]\n",
    "                    times = [x.datetime64 for x in meas_time]\n",
    "                    data.append(values)\n",
    "                    data.append(time_delta)\n",
    "                    data.append(pd.to_datetime(times))\n",
    "                    summary_row = scans.iloc[i+1]\n",
    "                    if 'Scan Summary' in summary_row['message']:\n",
    "                        x = summary_row['message']\n",
    "                        x = x.split(':')[1].split(',')\n",
    "                        mean_ = float(x[0].strip(' ').strip('['))\n",
    "                        median_ = float(x[1].strip(' '))\n",
    "                        std_ = float(x[2].strip(' ').strip(']'))\n",
    "                        \n",
    "                except:\n",
    "                    filen, mean_, median_, std_ = np.nan, np.nan, np.nan, np.nan\n",
    "                    print('error')\n",
    "                    \n",
    "        df = pd.DataFrame(data, columns=['Amps','time_delta','meas_time'])\n",
    "        config['{}_filen'.format(elec_name)] = filen\n",
    "        config['{}_mean'.format(elec_name)] = mean_\n",
    "        config['{}_median'.format(elec_name)] = median_\n",
    "        config['{}_std'.format(elec_name)] = std_\n",
    "        return df, config\n",
    "\n",
    "        \n",
    "async def get_spectro_data(start_time, end_time, config):\n",
    "    spectro_dir = os.path.join(config['general_data_dir'],'fiberSpec_files')\n",
    "    spectro_log_topic = 'lsst.sal.FiberSpectrograph.logevent_largeFileObjectAvailable'\n",
    "    spectro_df =  await client.select_time_series(spectro_log_topic, ['salIndex','url'], start=start_time, end=end_time)\n",
    "    this_spectro_df = spectro_df[spectro_df['salIndex'] == config['spectro_id']]\n",
    "    spectra = []\n",
    "    for i, url in enumerate(this_spectro_df['url']):\n",
    "        filename=lfa.url.split('FiberSpectrograph')[-1]\n",
    "        config['SPECTRO_FILE_{}'.format(i)] = filename\n",
    "        fs_file = os.path.join(spectro_dir, f)\n",
    "        os.system('curl {} --output {}'.format(url, fs_file))\n",
    "        hdu = fits.open(fs_file)\n",
    "        wave = hdu[1].data['wavelength'][0].flatten()\n",
    "        spectra.append(hdu[0].data)\n",
    "    waves = np.array(wave, dtype=[('Wavelength', '<f8')])\n",
    "    return spectra, waves"
   ]
  },
  {
   "cell_type": "code",
   "execution_count": 40,
   "id": "8fe5b014-6d3f-40a6-8a42-a0dce50a2af4",
   "metadata": {},
   "outputs": [
    {
     "name": "stdout",
     "output_type": "stream",
     "text": [
      "{'general_test_name': 'code_test', 'general_data_dir': '/home/parfa30/DATA/', 'general_light_source': 'LED', 'general_distance': 30, 'general_csc_include': ['CBP', 'CBP_ELEC', 'SC_ELEC'], 'cbp_az': 5, 'cbp_alt': 0, 'cbp_focus': 50, 'cbp_mask': 3, 'cbp_pinhole': '5mm', 'cbp_name': 'CBP', 'cbp_id': 'None', 'cbp_override': '', 'spectro_exptime': 1, 'spectro_name': 'FiberSpectrograph', 'spectro_id': 3, 'spectro_num_exp': 1, 'spectro_override': '', 'sc_elec_exptime': 1, 'sc_elec_mode': 2, 'sc_elec_range': '2E-07', 'sc_elec_inttime': '3e-9', 'sc_elec_name': 'Electrometer', 'sc_elec_id': 2, 'sc_elec_override': 'tts_laser_reference_v3.yaml', 'sc_elec_sc_name': 'good_one', 'cbp_elec_exptime': 1, 'cbp_elec_mode': 2, 'cbp_elec_range': '2e-07', 'cbp_elec_inttime': '3E-9', 'cbp_elec_pd_name': 'SM0', 'cbp_elec_name': 'Electrometer', 'cbp_elec_id': 4, 'cbp_elec_override': 'tts_cimacs2_v3.yaml', 'led_wavelength': 750, 'led_led_pwr': 'None', 'led_led_name': 'thorlabs', 'laser_wavelength': 750, 'laser_laserburst_n': 5, 'laser_laser_pwr': 'MAX', 'laser_name': 'laser', 'laser_id': 'None', 'laser_override': 'f2_config.yaml'}\n",
      "error\n",
      "error\n",
      "error\n",
      "error\n"
     ]
    },
    {
     "ename": "KeyError",
     "evalue": "'salIndex'",
     "output_type": "error",
     "traceback": [
      "\u001b[0;31m---------------------------------------------------------------------------\u001b[0m",
      "\u001b[0;31mKeyError\u001b[0m                                  Traceback (most recent call last)",
      "File \u001b[0;32m/opt/lsst/software/stack/conda/miniconda3-py38_4.9.2/envs/lsst-scipipe-4.1.0/lib/python3.10/site-packages/pandas/core/indexes/base.py:3621\u001b[0m, in \u001b[0;36mIndex.get_loc\u001b[0;34m(self, key, method, tolerance)\u001b[0m\n\u001b[1;32m   3620\u001b[0m \u001b[38;5;28;01mtry\u001b[39;00m:\n\u001b[0;32m-> 3621\u001b[0m     \u001b[38;5;28;01mreturn\u001b[39;00m \u001b[38;5;28;43mself\u001b[39;49m\u001b[38;5;241;43m.\u001b[39;49m\u001b[43m_engine\u001b[49m\u001b[38;5;241;43m.\u001b[39;49m\u001b[43mget_loc\u001b[49m\u001b[43m(\u001b[49m\u001b[43mcasted_key\u001b[49m\u001b[43m)\u001b[49m\n\u001b[1;32m   3622\u001b[0m \u001b[38;5;28;01mexcept\u001b[39;00m \u001b[38;5;167;01mKeyError\u001b[39;00m \u001b[38;5;28;01mas\u001b[39;00m err:\n",
      "File \u001b[0;32m/opt/lsst/software/stack/conda/miniconda3-py38_4.9.2/envs/lsst-scipipe-4.1.0/lib/python3.10/site-packages/pandas/_libs/index.pyx:136\u001b[0m, in \u001b[0;36mpandas._libs.index.IndexEngine.get_loc\u001b[0;34m()\u001b[0m\n",
      "File \u001b[0;32m/opt/lsst/software/stack/conda/miniconda3-py38_4.9.2/envs/lsst-scipipe-4.1.0/lib/python3.10/site-packages/pandas/_libs/index.pyx:163\u001b[0m, in \u001b[0;36mpandas._libs.index.IndexEngine.get_loc\u001b[0;34m()\u001b[0m\n",
      "File \u001b[0;32mpandas/_libs/hashtable_class_helper.pxi:5198\u001b[0m, in \u001b[0;36mpandas._libs.hashtable.PyObjectHashTable.get_item\u001b[0;34m()\u001b[0m\n",
      "File \u001b[0;32mpandas/_libs/hashtable_class_helper.pxi:5206\u001b[0m, in \u001b[0;36mpandas._libs.hashtable.PyObjectHashTable.get_item\u001b[0;34m()\u001b[0m\n",
      "\u001b[0;31mKeyError\u001b[0m: 'salIndex'",
      "\nThe above exception was the direct cause of the following exception:\n",
      "\u001b[0;31mKeyError\u001b[0m                                  Traceback (most recent call last)",
      "Input \u001b[0;32mIn [40]\u001b[0m, in \u001b[0;36m<cell line: 8>\u001b[0;34m()\u001b[0m\n\u001b[1;32m      4\u001b[0m cbp_elec_df, as_run_config \u001b[38;5;241m=\u001b[39m \u001b[38;5;28;01mawait\u001b[39;00m get_elec_data(start_time, end_time, \u001b[38;5;124m'\u001b[39m\u001b[38;5;124mCBP_ELEC\u001b[39m\u001b[38;5;124m'\u001b[39m, as_run_config)\n\u001b[1;32m      6\u001b[0m sc_elec_df, as_run_config \u001b[38;5;241m=\u001b[39m \u001b[38;5;28;01mawait\u001b[39;00m get_elec_data(start_time, end_time, \u001b[38;5;124m'\u001b[39m\u001b[38;5;124mSC_ELEC\u001b[39m\u001b[38;5;124m'\u001b[39m, as_run_config)\n\u001b[0;32m----> 8\u001b[0m spectra, waves, as_run_config \u001b[38;5;241m=\u001b[39m \u001b[38;5;28;01mawait\u001b[39;00m get_spectro_data(start_time, end_time, as_run_config)\n",
      "Input \u001b[0;32mIn [39]\u001b[0m, in \u001b[0;36mget_spectro_data\u001b[0;34m(start_time, end_time, config)\u001b[0m\n\u001b[1;32m     65\u001b[0m spectro_log_topic \u001b[38;5;241m=\u001b[39m \u001b[38;5;124m'\u001b[39m\u001b[38;5;124mlsst.sal.FiberSpectrograph.logevent_largeFileObjectAvailable\u001b[39m\u001b[38;5;124m'\u001b[39m\n\u001b[1;32m     66\u001b[0m spectro_df \u001b[38;5;241m=\u001b[39m  \u001b[38;5;28;01mawait\u001b[39;00m client\u001b[38;5;241m.\u001b[39mselect_time_series(spectro_log_topic, [\u001b[38;5;124m'\u001b[39m\u001b[38;5;124msalIndex\u001b[39m\u001b[38;5;124m'\u001b[39m,\u001b[38;5;124m'\u001b[39m\u001b[38;5;124murl\u001b[39m\u001b[38;5;124m'\u001b[39m], start\u001b[38;5;241m=\u001b[39mstart_time, end\u001b[38;5;241m=\u001b[39mend_time)\n\u001b[0;32m---> 67\u001b[0m this_spectro_df \u001b[38;5;241m=\u001b[39m spectro_df[\u001b[43mspectro_df\u001b[49m\u001b[43m[\u001b[49m\u001b[38;5;124;43m'\u001b[39;49m\u001b[38;5;124;43msalIndex\u001b[39;49m\u001b[38;5;124;43m'\u001b[39;49m\u001b[43m]\u001b[49m \u001b[38;5;241m==\u001b[39m config[\u001b[38;5;124m'\u001b[39m\u001b[38;5;124mspectro\u001b[39m\u001b[38;5;124m'\u001b[39m][\u001b[38;5;124m'\u001b[39m\u001b[38;5;124mid\u001b[39m\u001b[38;5;124m'\u001b[39m]]\n\u001b[1;32m     68\u001b[0m spectra \u001b[38;5;241m=\u001b[39m []\n\u001b[1;32m     69\u001b[0m \u001b[38;5;28;01mfor\u001b[39;00m i, url \u001b[38;5;129;01min\u001b[39;00m \u001b[38;5;28menumerate\u001b[39m(this_spectro_df[\u001b[38;5;124m'\u001b[39m\u001b[38;5;124murl\u001b[39m\u001b[38;5;124m'\u001b[39m]):\n",
      "File \u001b[0;32m/opt/lsst/software/stack/conda/miniconda3-py38_4.9.2/envs/lsst-scipipe-4.1.0/lib/python3.10/site-packages/pandas/core/frame.py:3505\u001b[0m, in \u001b[0;36mDataFrame.__getitem__\u001b[0;34m(self, key)\u001b[0m\n\u001b[1;32m   3503\u001b[0m \u001b[38;5;28;01mif\u001b[39;00m \u001b[38;5;28mself\u001b[39m\u001b[38;5;241m.\u001b[39mcolumns\u001b[38;5;241m.\u001b[39mnlevels \u001b[38;5;241m>\u001b[39m \u001b[38;5;241m1\u001b[39m:\n\u001b[1;32m   3504\u001b[0m     \u001b[38;5;28;01mreturn\u001b[39;00m \u001b[38;5;28mself\u001b[39m\u001b[38;5;241m.\u001b[39m_getitem_multilevel(key)\n\u001b[0;32m-> 3505\u001b[0m indexer \u001b[38;5;241m=\u001b[39m \u001b[38;5;28;43mself\u001b[39;49m\u001b[38;5;241;43m.\u001b[39;49m\u001b[43mcolumns\u001b[49m\u001b[38;5;241;43m.\u001b[39;49m\u001b[43mget_loc\u001b[49m\u001b[43m(\u001b[49m\u001b[43mkey\u001b[49m\u001b[43m)\u001b[49m\n\u001b[1;32m   3506\u001b[0m \u001b[38;5;28;01mif\u001b[39;00m is_integer(indexer):\n\u001b[1;32m   3507\u001b[0m     indexer \u001b[38;5;241m=\u001b[39m [indexer]\n",
      "File \u001b[0;32m/opt/lsst/software/stack/conda/miniconda3-py38_4.9.2/envs/lsst-scipipe-4.1.0/lib/python3.10/site-packages/pandas/core/indexes/base.py:3623\u001b[0m, in \u001b[0;36mIndex.get_loc\u001b[0;34m(self, key, method, tolerance)\u001b[0m\n\u001b[1;32m   3621\u001b[0m     \u001b[38;5;28;01mreturn\u001b[39;00m \u001b[38;5;28mself\u001b[39m\u001b[38;5;241m.\u001b[39m_engine\u001b[38;5;241m.\u001b[39mget_loc(casted_key)\n\u001b[1;32m   3622\u001b[0m \u001b[38;5;28;01mexcept\u001b[39;00m \u001b[38;5;167;01mKeyError\u001b[39;00m \u001b[38;5;28;01mas\u001b[39;00m err:\n\u001b[0;32m-> 3623\u001b[0m     \u001b[38;5;28;01mraise\u001b[39;00m \u001b[38;5;167;01mKeyError\u001b[39;00m(key) \u001b[38;5;28;01mfrom\u001b[39;00m \u001b[38;5;21;01merr\u001b[39;00m\n\u001b[1;32m   3624\u001b[0m \u001b[38;5;28;01mexcept\u001b[39;00m \u001b[38;5;167;01mTypeError\u001b[39;00m:\n\u001b[1;32m   3625\u001b[0m     \u001b[38;5;66;03m# If we have a listlike key, _check_indexing_error will raise\u001b[39;00m\n\u001b[1;32m   3626\u001b[0m     \u001b[38;5;66;03m#  InvalidIndexError. Otherwise we fall through and re-raise\u001b[39;00m\n\u001b[1;32m   3627\u001b[0m     \u001b[38;5;66;03m#  the TypeError.\u001b[39;00m\n\u001b[1;32m   3628\u001b[0m     \u001b[38;5;28mself\u001b[39m\u001b[38;5;241m.\u001b[39m_check_indexing_error(key)\n",
      "\u001b[0;31mKeyError\u001b[0m: 'salIndex'"
     ]
    }
   ],
   "source": [
    "as_run_config = await getConfiguration(config_file, csc_items)\n",
    "print(as_run_config)\n",
    "\n",
    "cbp_elec_df, as_run_config = await get_elec_data(start_time, end_time, 'CBP_ELEC', as_run_config)\n",
    "\n",
    "sc_elec_df, as_run_config = await get_elec_data(start_time, end_time, 'SC_ELEC', as_run_config)\n",
    "\n",
    "spectra, waves, as_run_config = await get_spectro_data(start_time, end_time, as_run_config)"
   ]
  },
  {
   "cell_type": "markdown",
   "id": "beef32d0-ab9e-47df-b6e4-b3b03e6feb48",
   "metadata": {},
   "source": [
    "## Save Data"
   ]
  },
  {
   "cell_type": "code",
   "execution_count": null,
   "id": "7dbdacea-7a4e-4e2a-9181-2e3f798ee3d7",
   "metadata": {},
   "outputs": [],
   "source": [
    "hdulist = fits.HDUList()\n",
    "\n",
    "hdr = fits.Header()\n",
    "for key, val in as_run_config.items():\n",
    "    try:\n",
    "        hdr[key.upper()] = val\n",
    "    except:\n",
    "        print(key)\n",
    "\n",
    "empty_primary = fits.PrimaryHDU(header=hdr)\n",
    "hdulist.append(empty_primary)\n",
    "\n",
    "cbp_table = Table.from_pandas(cbp_elec_df)\n",
    "hdulist.append(fits.BinTableHDU(cbp_table.as_array(), name='CBP_ELEC'))\n",
    "\n",
    "sc_table = Table.from_pandas(sc_elec_df)\n",
    "hdulist.append(fits.BinTableHDU(sc_table.as_array(), name='SC_ELEC'))\n",
    "\n",
    "spectro_table = Table(np.array(spectra))\n",
    "hdulist.append(fits.BinTableHDU(spectro_table.as_array(), name='SPECTRO'))\n",
    "hdulist.append(fits.BinTableHDU(waves.as_array(), name='WAVELENGTH'))\n",
    "\n",
    "#Save file\n",
    "test_name = as_run_config['GENERAL_TEST_NAME']\n",
    "self.hdulist.writeto(f'{os.path.join(as_run_config['GENERAL_DATA_DIR'],'CBP_data', '{}_{}'.format(test_name, Time.now().isot_))}.fits', overwrite=True)"
   ]
  }
 ],
 "metadata": {
  "kernelspec": {
   "display_name": "LSST",
   "language": "python",
   "name": "lsst"
  },
  "language_info": {
   "codemirror_mode": {
    "name": "ipython",
    "version": 3
   },
   "file_extension": ".py",
   "mimetype": "text/x-python",
   "name": "python",
   "nbconvert_exporter": "python",
   "pygments_lexer": "ipython3",
   "version": "3.10.5"
  }
 },
 "nbformat": 4,
 "nbformat_minor": 5
}
