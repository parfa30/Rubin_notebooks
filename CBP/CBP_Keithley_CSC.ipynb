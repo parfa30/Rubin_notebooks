{
 "cells": [
  {
   "cell_type": "markdown",
   "metadata": {},
   "source": [
    "# CBP Calibration Electrometer CSC"
   ]
  },
  {
   "cell_type": "markdown",
   "metadata": {},
   "source": [
    "This notebook is used to command the electrometer used to read the solar cell and then also access the data"
   ]
  },
  {
   "cell_type": "code",
   "execution_count": 1,
   "metadata": {},
   "outputs": [
    {
     "data": {
      "text/html": [
       "<pre style=\"margin: 0.1em;\n",
       "padding-left: 0.25em;\n",
       "border-left-style: solid;\n",
       "font-family: var(--jp-code-font-family);\n",
       "font-size: var(--jp-code-font-size);\n",
       "line-height: var(--jp-code-line-height);\n",
       "\"><span style=\"color: var(--jp-warn-color2)\">lsst.ts.utils.tai</span> <span style=\"color: var(--jp-info-color0)\">INFO</span>: Update leap second table</pre>"
      ],
      "text/plain": [
       "<IPython.core.display.HTML object>"
      ]
     },
     "metadata": {},
     "output_type": "display_data"
    },
    {
     "data": {
      "text/html": [
       "<pre style=\"margin: 0.1em;\n",
       "padding-left: 0.25em;\n",
       "border-left-style: solid;\n",
       "font-family: var(--jp-code-font-family);\n",
       "font-size: var(--jp-code-font-size);\n",
       "line-height: var(--jp-code-line-height);\n",
       "\"><span style=\"color: var(--jp-warn-color2)\">lsst.ts.utils.tai</span> <span style=\"color: var(--jp-info-color0)\">INFO</span>: current_tai uses the system TAI clock</pre>"
      ],
      "text/plain": [
       "<IPython.core.display.HTML object>"
      ]
     },
     "metadata": {},
     "output_type": "display_data"
    }
   ],
   "source": [
    "%matplotlib inline\n",
    "from lsst.ts import salobj\n",
    "import asyncio\n",
    "import os\n",
    "from astropy.time import Time\n",
    "import pandas as pd\n",
    "import numpy as np\n",
    "import subprocess\n",
    "\n",
    "from astropy.io import fits\n",
    "import matplotlib.pyplot as plt\n",
    "\n",
    "\n",
    "from lsst_efd_client import EfdClient\n",
    "client = EfdClient('tucson_teststand_efd')"
   ]
  },
  {
   "cell_type": "code",
   "execution_count": 2,
   "metadata": {},
   "outputs": [],
   "source": [
    "dir_ = '/home/parfa30/DATA/electrometer_files' # directory where data will be saved"
   ]
  },
  {
   "cell_type": "code",
   "execution_count": 3,
   "metadata": {},
   "outputs": [],
   "source": [
    "sc_electrometer_index = 2\n",
    "cbp_electrometer_index = 4"
   ]
  },
  {
   "cell_type": "markdown",
   "metadata": {},
   "source": [
    "### Setup CSC"
   ]
  },
  {
   "cell_type": "code",
   "execution_count": 4,
   "metadata": {},
   "outputs": [
    {
     "data": {
      "text/html": [
       "<pre style=\"margin: 0.1em;\n",
       "padding-left: 0.25em;\n",
       "border-left-style: solid;\n",
       "font-family: var(--jp-code-font-family);\n",
       "font-size: var(--jp-code-font-size);\n",
       "line-height: var(--jp-code-line-height);\n",
       "\"><span style=\"color: var(--jp-warn-color2)\">Electrometer</span> <span style=\"color: var(--jp-info-color0)\">INFO</span>: Disabling authlist-based command authorization</pre>"
      ],
      "text/plain": [
       "<IPython.core.display.HTML object>"
      ]
     },
     "metadata": {},
     "output_type": "display_data"
    },
    {
     "data": {
      "text/html": [
       "<pre style=\"margin: 0.1em;\n",
       "padding-left: 0.25em;\n",
       "border-left-style: solid;\n",
       "font-family: var(--jp-code-font-family);\n",
       "font-size: var(--jp-code-font-size);\n",
       "line-height: var(--jp-code-line-height);\n",
       "\"><span style=\"color: var(--jp-warn-color2)\">Electrometer</span> <span style=\"color: var(--jp-info-color0)\">INFO</span>: Disabling authlist-based command authorization</pre>"
      ],
      "text/plain": [
       "<IPython.core.display.HTML object>"
      ]
     },
     "metadata": {},
     "output_type": "display_data"
    },
    {
     "data": {
      "text/html": [
       "<pre style=\"margin: 0.1em;\n",
       "padding-left: 0.25em;\n",
       "border-left-style: solid;\n",
       "font-family: var(--jp-code-font-family);\n",
       "font-size: var(--jp-code-font-size);\n",
       "line-height: var(--jp-code-line-height);\n",
       "\"><span style=\"color: var(--jp-warn-color2)\">Electrometer</span> <span style=\"color: var(--jp-info-color0)\">INFO</span>: Read historical data in 0.00 sec</pre>"
      ],
      "text/plain": [
       "<IPython.core.display.HTML object>"
      ]
     },
     "metadata": {},
     "output_type": "display_data"
    },
    {
     "data": {
      "text/html": [
       "<pre style=\"margin: 0.1em;\n",
       "padding-left: 0.25em;\n",
       "border-left-style: solid;\n",
       "font-family: var(--jp-code-font-family);\n",
       "font-size: var(--jp-code-font-size);\n",
       "line-height: var(--jp-code-line-height);\n",
       "\"><span style=\"color: var(--jp-warn-color2)\">Electrometer</span> <span style=\"color: var(--jp-info-color0)\">INFO</span>: Read historical data in 0.01 sec</pre>"
      ],
      "text/plain": [
       "<IPython.core.display.HTML object>"
      ]
     },
     "metadata": {},
     "output_type": "display_data"
    }
   ],
   "source": [
    "domain = salobj.Domain()\n",
    "sc_electrometer = salobj.Remote(name=\"Electrometer\", domain=domain, index=sc_electrometer_index) \n",
    "cbp_electrometer = salobj.Remote(name=\"Electrometer\", domain=domain, index=cbp_electrometer_index) \n",
    "await sc_electrometer.start_task\n",
    "await cbp_electrometer.start_task"
   ]
  },
  {
   "cell_type": "code",
   "execution_count": 6,
   "metadata": {},
   "outputs": [
    {
     "name": "stdout",
     "output_type": "stream",
     "text": [
      "salIndex: 4, private_revCode: 7f398fff, private_sndStamp: 1666126613.881732, private_rcvStamp: 1666126613.8832629, private_seqNum: 1151568, private_identity: Electrometer:4, private_origin: 8090, heartbeat: False\n"
     ]
    }
   ],
   "source": [
    "tmp = await cbp_electrometer.evt_heartbeat.aget()\n",
    "print(tmp)"
   ]
  },
  {
   "cell_type": "code",
   "execution_count": 12,
   "metadata": {},
   "outputs": [
    {
     "name": "stdout",
     "output_type": "stream",
     "text": [
      "Solar Cell:  State.ENABLED\n",
      "CBP:  State.ENABLED\n"
     ]
    }
   ],
   "source": [
    "tmps = await sc_electrometer.evt_summaryState.aget()\n",
    "tmpc = await cbp_electrometer.evt_summaryState.aget()\n",
    "print('Solar Cell: ',salobj.State(tmps.summaryState))\n",
    "print('CBP: ',salobj.State(tmpc.summaryState))"
   ]
  },
  {
   "cell_type": "code",
   "execution_count": 8,
   "metadata": {},
   "outputs": [
    {
     "ename": "CancelledError",
     "evalue": "",
     "output_type": "error",
     "traceback": [
      "\u001b[0;31m---------------------------------------------------------------------------\u001b[0m",
      "\u001b[0;31mCancelledError\u001b[0m                            Traceback (most recent call last)",
      "Input \u001b[0;32mIn [8]\u001b[0m, in \u001b[0;36m<cell line: 1>\u001b[0;34m()\u001b[0m\n\u001b[0;32m----> 1\u001b[0m tmp \u001b[38;5;241m=\u001b[39m \u001b[38;5;28;01mawait\u001b[39;00m cbp_electrometer\u001b[38;5;241m.\u001b[39mevt_detailedState\u001b[38;5;241m.\u001b[39maget()\n\u001b[1;32m      2\u001b[0m \u001b[38;5;28mprint\u001b[39m(tmp)\n",
      "File \u001b[0;32m/opt/lsst/software/stack/conda/miniconda3-py38_4.9.2/envs/lsst-scipipe-4.1.0/lib/python3.10/site-packages/lsst/ts/salobj/topics/read_topic.py:532\u001b[0m, in \u001b[0;36mReadTopic.aget\u001b[0;34m(self, timeout)\u001b[0m\n\u001b[1;32m    530\u001b[0m     \u001b[38;5;28;01mif\u001b[39;00m \u001b[38;5;28mself\u001b[39m\u001b[38;5;241m.\u001b[39m_next_task\u001b[38;5;241m.\u001b[39mdone():\n\u001b[1;32m    531\u001b[0m         \u001b[38;5;28mself\u001b[39m\u001b[38;5;241m.\u001b[39m_next_task \u001b[38;5;241m=\u001b[39m asyncio\u001b[38;5;241m.\u001b[39mFuture()\n\u001b[0;32m--> 532\u001b[0m     \u001b[38;5;28;01mawait\u001b[39;00m asyncio\u001b[38;5;241m.\u001b[39mwait_for(\u001b[38;5;28mself\u001b[39m\u001b[38;5;241m.\u001b[39m_next_task, timeout\u001b[38;5;241m=\u001b[39mtimeout)\n\u001b[1;32m    533\u001b[0m \u001b[38;5;28;01massert\u001b[39;00m \u001b[38;5;28mself\u001b[39m\u001b[38;5;241m.\u001b[39m_current_data \u001b[38;5;129;01mis\u001b[39;00m \u001b[38;5;129;01mnot\u001b[39;00m \u001b[38;5;28;01mNone\u001b[39;00m  \u001b[38;5;66;03m# make mypy happy\u001b[39;00m\n\u001b[1;32m    534\u001b[0m \u001b[38;5;28;01mreturn\u001b[39;00m \u001b[38;5;28mself\u001b[39m\u001b[38;5;241m.\u001b[39m_current_data\n",
      "File \u001b[0;32m/opt/lsst/software/stack/conda/miniconda3-py38_4.9.2/envs/lsst-scipipe-4.1.0/lib/python3.10/asyncio/tasks.py:408\u001b[0m, in \u001b[0;36mwait_for\u001b[0;34m(fut, timeout)\u001b[0m\n\u001b[1;32m    405\u001b[0m loop \u001b[38;5;241m=\u001b[39m events\u001b[38;5;241m.\u001b[39mget_running_loop()\n\u001b[1;32m    407\u001b[0m \u001b[38;5;28;01mif\u001b[39;00m timeout \u001b[38;5;129;01mis\u001b[39;00m \u001b[38;5;28;01mNone\u001b[39;00m:\n\u001b[0;32m--> 408\u001b[0m     \u001b[38;5;28;01mreturn\u001b[39;00m \u001b[38;5;28;01mawait\u001b[39;00m fut\n\u001b[1;32m    410\u001b[0m \u001b[38;5;28;01mif\u001b[39;00m timeout \u001b[38;5;241m<\u001b[39m\u001b[38;5;241m=\u001b[39m \u001b[38;5;241m0\u001b[39m:\n\u001b[1;32m    411\u001b[0m     fut \u001b[38;5;241m=\u001b[39m ensure_future(fut, loop\u001b[38;5;241m=\u001b[39mloop)\n",
      "\u001b[0;31mCancelledError\u001b[0m: "
     ]
    }
   ],
   "source": [
    "tmp = await cbp_electrometer.evt_detailedState.aget()\n",
    "print(tmp)"
   ]
  },
  {
   "cell_type": "code",
   "execution_count": 8,
   "metadata": {},
   "outputs": [
    {
     "ename": "AttributeError",
     "evalue": "'Remote' object has no attribute 'evt_'",
     "output_type": "error",
     "traceback": [
      "\u001b[0;31m---------------------------------------------------------------------------\u001b[0m",
      "\u001b[0;31mAttributeError\u001b[0m                            Traceback (most recent call last)",
      "Input \u001b[0;32mIn [8]\u001b[0m, in \u001b[0;36m<cell line: 1>\u001b[0;34m()\u001b[0m\n\u001b[0;32m----> 1\u001b[0m tmp \u001b[38;5;241m=\u001b[39m \u001b[38;5;28;01mawait\u001b[39;00m cbp_electrometer\u001b[38;5;241m.\u001b[39mevt_\u001b[38;5;241m.\u001b[39maget()\n\u001b[1;32m      2\u001b[0m \u001b[38;5;28mprint\u001b[39m(tmp)\n",
      "\u001b[0;31mAttributeError\u001b[0m: 'Remote' object has no attribute 'evt_'"
     ]
    }
   ],
   "source": [
    "tmp = await cbp_electrometer.evt_.aget()\n",
    "print(tmp)"
   ]
  },
  {
   "cell_type": "code",
   "execution_count": 13,
   "metadata": {},
   "outputs": [
    {
     "name": "stdout",
     "output_type": "stream",
     "text": [
      "[<State.ENABLED: 2>]\n"
     ]
    }
   ],
   "source": [
    "tmp=await salobj.set_summary_state(sc_electrometer, salobj.State.ENABLED, override=\"tts_laser_reference_v3.yaml\", timeout=20)\n",
    "print(tmp)"
   ]
  },
  {
   "cell_type": "code",
   "execution_count": 8,
   "metadata": {},
   "outputs": [
    {
     "ename": "NameError",
     "evalue": "name 'cbp_electrometer' is not defined",
     "output_type": "error",
     "traceback": [
      "\u001b[0;31m---------------------------------------------------------------------------\u001b[0m",
      "\u001b[0;31mNameError\u001b[0m                                 Traceback (most recent call last)",
      "Input \u001b[0;32mIn [8]\u001b[0m, in \u001b[0;36m<cell line: 1>\u001b[0;34m()\u001b[0m\n\u001b[0;32m----> 1\u001b[0m tmp \u001b[38;5;241m=\u001b[39m \u001b[38;5;28;01mawait\u001b[39;00m cbp_electrometer\u001b[38;5;241m.\u001b[39mcmd_setIntegrationTime\u001b[38;5;241m.\u001b[39mset_start(intTime\u001b[38;5;241m=\u001b[39m\u001b[38;5;241m166.67e-6\u001b[39m)\n\u001b[1;32m      2\u001b[0m \u001b[38;5;28mprint\u001b[39m(tmp)\n",
      "\u001b[0;31mNameError\u001b[0m: name 'cbp_electrometer' is not defined"
     ]
    }
   ],
   "source": [
    "tmp = await cbp_electrometer.cmd_setIntegrationTime.set_start(intTime=166.67e-6)\n",
    "print(tmp)"
   ]
  },
  {
   "cell_type": "code",
   "execution_count": 32,
   "metadata": {},
   "outputs": [],
   "source": [
    "tmp = await cbp_electrometer.cmd_standby.set_start()"
   ]
  },
  {
   "cell_type": "code",
   "execution_count": 34,
   "metadata": {},
   "outputs": [
    {
     "name": "stdout",
     "output_type": "stream",
     "text": [
      "[<State.STANDBY: 5>, <State.DISABLED: 1>, <State.ENABLED: 2>]\n"
     ]
    }
   ],
   "source": [
    "# Bring to enabled with proper config file\n",
    "#tmps=await salobj.set_summary_state(sc_electrometer, salobj.State.ENABLED, override=\"tts_laser_reference_v3.yaml\", timeout=20)\n",
    "#print(tmps)\n",
    "tmpc=await salobj.set_summary_state(cbp_electrometer, salobj.State.ENABLED, override=\"tts_cimacs2_v3.yaml\", timeout=20)\n",
    "print(tmpc)"
   ]
  },
  {
   "cell_type": "code",
   "execution_count": 44,
   "metadata": {},
   "outputs": [],
   "source": [
    "tmp = await cbp_electrometer.cmd_exitControl.set_start()"
   ]
  },
  {
   "cell_type": "code",
   "execution_count": 7,
   "metadata": {},
   "outputs": [
    {
     "data": {
      "text/plain": [
       "<ddsutil.Electrometer_ackcmd_a59b7522 at 0x7fe5538ab1c0>"
      ]
     },
     "execution_count": 7,
     "metadata": {},
     "output_type": "execute_result"
    }
   ],
   "source": [
    "await sc_electrometer.cmd_performZeroCalib.set_start(timeout=10) #Calibrates the Electrometer\n",
    "await sc_electrometer.cmd_setDigitalFilter.set_start(activateFilter=False, activateAvgFilter=False, activateMedFilter=False, timeout=10)\n",
    "\n",
    "#await cbp_electrometer.cmd_performZeroCalib.set_start(timeout=10) #Calibrates the Electrometer\n",
    "#await cbp_electrometer.cmd_setDigitalFilter.set_start(activateFilter=False, activateAvgFilter=False, activateMedFilter=False, timeout=10)"
   ]
  },
  {
   "cell_type": "code",
   "execution_count": 22,
   "metadata": {},
   "outputs": [
    {
     "data": {
      "text/plain": [
       "<ddsutil.Electrometer_ackcmd_a59b7522 at 0x7f92820feaa0>"
      ]
     },
     "execution_count": 22,
     "metadata": {},
     "output_type": "execute_result"
    }
   ],
   "source": [
    "await sc_electrometer.cmd_setMode.set_start(mode=2) #1=Current, 2=Charge, 3=Voltage, 4=Resistance"
   ]
  },
  {
   "cell_type": "code",
   "execution_count": 24,
   "metadata": {},
   "outputs": [
    {
     "data": {
      "text/plain": [
       "<ddsutil.Electrometer_ackcmd_a59b7522 at 0x7f92813c6b60>"
      ]
     },
     "execution_count": 24,
     "metadata": {},
     "output_type": "execute_result"
    }
   ],
   "source": [
    "await sc_electrometer.cmd_startScan.set_start(timeout=10)\n",
    "await asyncio.sleep(3)\n",
    "await sc_electrometer.cmd_stopScan.set_start(timeout=10)"
   ]
  },
  {
   "cell_type": "markdown",
   "metadata": {},
   "source": [
    "### Take Measurement"
   ]
  },
  {
   "cell_type": "code",
   "execution_count": 9,
   "metadata": {},
   "outputs": [],
   "source": [
    "elec_id = {2:sc_electrometer}#, 4:cbp_electrometer} #, 5:electrometer5}\n",
    "async def start_measure(electrometers):\n",
    "    if isinstance(electrometers, list):\n",
    "        to_run = []\n",
    "        for elec in electrometers:\n",
    "            #await elec_id[elec].cmd_performZeroCalib.set_start(timeout=10)\n",
    "            to_run.append(elec_id[elec].cmd_startScan.set_start(timeout=10))\n",
    "        await asyncio.gather(*to_run)\n",
    "\n",
    "async def stop_measure(electrometers):\n",
    "    if isinstance(electrometers, list):\n",
    "        to_run = []\n",
    "        for elec in electrometers:\n",
    "            to_run.append(elec_id[elec].cmd_stopScan.set_start(timeout=10))\n",
    "        await asyncio.gather(*to_run)\n",
    "         \n",
    "async def take_measurement(exp_time, electrometers):\n",
    "    await start_measure(electrometers)\n",
    "    await asyncio.sleep(exp_time)\n",
    "    await stop_measure(electrometers)"
   ]
  },
  {
   "cell_type": "code",
   "execution_count": 11,
   "metadata": {},
   "outputs": [],
   "source": [
    "start_time = Time.now()\n",
    "await take_measurement(1, [2])\n",
    "await asyncio.sleep(2) # need to give some time for data to transfer\n",
    "end_time = Time.now()"
   ]
  },
  {
   "cell_type": "markdown",
   "metadata": {},
   "source": [
    "### Get Data from EFD"
   ]
  },
  {
   "cell_type": "code",
   "execution_count": null,
   "metadata": {},
   "outputs": [],
   "source": [
    "def transfer_file(filen):\n",
    "    bashCommand = \"scp saluser@toonie.tu.lsst.org:/home/saluser/develop/electrometerFitsFiles/{} {}\".format(filen, dir_)\n",
    "    process = subprocess.Popen(bashCommand.split(), stdout=subprocess.PIPE)\n",
    "    output, error = process.communicate()"
   ]
  },
  {
   "cell_type": "code",
   "execution_count": 100,
   "metadata": {},
   "outputs": [],
   "source": [
    "start_log_topic = 'lsst.sal.Electrometer.command_startScan'\n",
    "start_df =  await client.select_time_series(start_log_topic, ['salIndex'], start=start_time, end=end_time)\n",
    "start_df['message'] = 'startScan Completed'\n",
    "start_df['functionName'] = 'do_startScan'\n",
    "msg_log_topic = 'lsst.sal.Electrometer.logevent_logMessage'\n",
    "msg_df = await client.select_time_series(msg_log_topic,['salIndex','functionName','message'], start=start_time, end=end_time)\n",
    "elec_df = pd.concat([start_df, msg_df])\n",
    "elec_df.sort_index(inplace=True)\n",
    "elec_df = pd.concat([start_df, msg_df])\n",
    "elec_df.sort_index(inplace=True)"
   ]
  },
  {
   "cell_type": "code",
   "execution_count": 101,
   "metadata": {},
   "outputs": [
    {
     "data": {
      "text/html": [
       "<div>\n",
       "<style scoped>\n",
       "    .dataframe tbody tr th:only-of-type {\n",
       "        vertical-align: middle;\n",
       "    }\n",
       "\n",
       "    .dataframe tbody tr th {\n",
       "        vertical-align: top;\n",
       "    }\n",
       "\n",
       "    .dataframe thead th {\n",
       "        text-align: right;\n",
       "    }\n",
       "</style>\n",
       "<table border=\"1\" class=\"dataframe\">\n",
       "  <thead>\n",
       "    <tr style=\"text-align: right;\">\n",
       "      <th></th>\n",
       "      <th>salIndex</th>\n",
       "      <th>message</th>\n",
       "      <th>functionName</th>\n",
       "    </tr>\n",
       "  </thead>\n",
       "  <tbody>\n",
       "    <tr>\n",
       "      <th>2022-08-16 17:12:34.610877+00:00</th>\n",
       "      <td>2</td>\n",
       "      <td>startScan Completed</td>\n",
       "      <td>do_startScan</td>\n",
       "    </tr>\n",
       "    <tr>\n",
       "      <th>2022-08-16 17:12:34.611091+00:00</th>\n",
       "      <td>4</td>\n",
       "      <td>startScan Completed</td>\n",
       "      <td>do_startScan</td>\n",
       "    </tr>\n",
       "    <tr>\n",
       "      <th>2022-08-16 17:13:04.729548+00:00</th>\n",
       "      <td>4</td>\n",
       "      <td>Electrometer Scan data file written: 166066999...</td>\n",
       "      <td>write_fits_file</td>\n",
       "    </tr>\n",
       "    <tr>\n",
       "      <th>2022-08-16 17:13:04.729602+00:00</th>\n",
       "      <td>2</td>\n",
       "      <td>Electrometer Scan data file written: 166066999...</td>\n",
       "      <td>write_fits_file</td>\n",
       "    </tr>\n",
       "    <tr>\n",
       "      <th>2022-08-16 17:13:04.730732+00:00</th>\n",
       "      <td>4</td>\n",
       "      <td>Scan Summary of [Mean, median, std] is: [-4.44...</td>\n",
       "      <td>write_fits_file</td>\n",
       "    </tr>\n",
       "    <tr>\n",
       "      <th>2022-08-16 17:13:04.730840+00:00</th>\n",
       "      <td>2</td>\n",
       "      <td>Scan Summary of [Mean, median, std] is: [-3.12...</td>\n",
       "      <td>write_fits_file</td>\n",
       "    </tr>\n",
       "    <tr>\n",
       "      <th>2022-08-16 17:13:04.731668+00:00</th>\n",
       "      <td>4</td>\n",
       "      <td>stopScan Completed</td>\n",
       "      <td>do_stopScan</td>\n",
       "    </tr>\n",
       "    <tr>\n",
       "      <th>2022-08-16 17:13:04.732033+00:00</th>\n",
       "      <td>2</td>\n",
       "      <td>stopScan Completed</td>\n",
       "      <td>do_stopScan</td>\n",
       "    </tr>\n",
       "  </tbody>\n",
       "</table>\n",
       "</div>"
      ],
      "text/plain": [
       "                                  salIndex  \\\n",
       "2022-08-16 17:12:34.610877+00:00         2   \n",
       "2022-08-16 17:12:34.611091+00:00         4   \n",
       "2022-08-16 17:13:04.729548+00:00         4   \n",
       "2022-08-16 17:13:04.729602+00:00         2   \n",
       "2022-08-16 17:13:04.730732+00:00         4   \n",
       "2022-08-16 17:13:04.730840+00:00         2   \n",
       "2022-08-16 17:13:04.731668+00:00         4   \n",
       "2022-08-16 17:13:04.732033+00:00         2   \n",
       "\n",
       "                                                                            message  \\\n",
       "2022-08-16 17:12:34.610877+00:00                                startScan Completed   \n",
       "2022-08-16 17:12:34.611091+00:00                                startScan Completed   \n",
       "2022-08-16 17:13:04.729548+00:00  Electrometer Scan data file written: 166066999...   \n",
       "2022-08-16 17:13:04.729602+00:00  Electrometer Scan data file written: 166066999...   \n",
       "2022-08-16 17:13:04.730732+00:00  Scan Summary of [Mean, median, std] is: [-4.44...   \n",
       "2022-08-16 17:13:04.730840+00:00  Scan Summary of [Mean, median, std] is: [-3.12...   \n",
       "2022-08-16 17:13:04.731668+00:00                                 stopScan Completed   \n",
       "2022-08-16 17:13:04.732033+00:00                                 stopScan Completed   \n",
       "\n",
       "                                     functionName  \n",
       "2022-08-16 17:12:34.610877+00:00     do_startScan  \n",
       "2022-08-16 17:12:34.611091+00:00     do_startScan  \n",
       "2022-08-16 17:13:04.729548+00:00  write_fits_file  \n",
       "2022-08-16 17:13:04.729602+00:00  write_fits_file  \n",
       "2022-08-16 17:13:04.730732+00:00  write_fits_file  \n",
       "2022-08-16 17:13:04.730840+00:00  write_fits_file  \n",
       "2022-08-16 17:13:04.731668+00:00      do_stopScan  \n",
       "2022-08-16 17:13:04.732033+00:00      do_stopScan  "
      ]
     },
     "execution_count": 101,
     "metadata": {},
     "output_type": "execute_result"
    }
   ],
   "source": [
    "elec_df"
   ]
  },
  {
   "cell_type": "code",
   "execution_count": 124,
   "metadata": {},
   "outputs": [],
   "source": [
    "data = {}\n",
    "for e_id, elec in elec_id.items():\n",
    "    scans = elec_df[elec_df.salIndex == e_id]\n",
    "    scans.reset_index(inplace=True)\n",
    "    if len(scans) > 0:\n",
    "        for i, row in scans.iterrows():\n",
    "            if row['functionName'] == 'write_fits_file':\n",
    "                try:\n",
    "                    file_row = scans.iloc[i]\n",
    "                    filen = file_row['message'].split(' ')[-1]\n",
    "                    summary_row = scans.iloc[i+1]\n",
    "                    if 'Scan Summary' in summary_row['message']:\n",
    "                        x = summary_row['message']\n",
    "                        x = x.split(':')[1].split(',')\n",
    "                        mean_ = float(x[0].strip(' ').strip('['))\n",
    "                        median_ = float(x[1].strip(' '))\n",
    "                        std_ = float(x[2].strip(' ').strip(']'))\n",
    "                        data[e_id] = [filen, mean_, median_, std_]\n",
    "                        break\n",
    "                except:\n",
    "                        print('error')"
   ]
  },
  {
   "cell_type": "code",
   "execution_count": 50,
   "metadata": {},
   "outputs": [
    {
     "ename": "NameError",
     "evalue": "name 'data' is not defined",
     "output_type": "error",
     "traceback": [
      "\u001b[0;31m---------------------------------------------------------------------------\u001b[0m",
      "\u001b[0;31mNameError\u001b[0m                                 Traceback (most recent call last)",
      "Input \u001b[0;32mIn [50]\u001b[0m, in \u001b[0;36m<cell line: 1>\u001b[0;34m()\u001b[0m\n\u001b[0;32m----> 1\u001b[0m \u001b[38;5;28;01mfor\u001b[39;00m e_id, d \u001b[38;5;129;01min\u001b[39;00m \u001b[43mdata\u001b[49m\u001b[38;5;241m.\u001b[39mitems():\n\u001b[1;32m      2\u001b[0m     filen \u001b[38;5;241m=\u001b[39m d[\u001b[38;5;241m0\u001b[39m]\n\u001b[1;32m      3\u001b[0m     transfer_file(filen)\n",
      "\u001b[0;31mNameError\u001b[0m: name 'data' is not defined"
     ]
    }
   ],
   "source": [
    "for e_id, d in data.items():\n",
    "    filen = d[0]\n",
    "    transfer_file(filen)\n",
    "    start_time, end_time = os.path.splitext(filen)[0].split('_')\n",
    "    ff = os.path.join(dir_, filen)\n",
    "    hdu = fits.open(ff)\n",
    "    print(hdu.info)\n",
    "    edata = fits.open(ff)[0].data\n",
    "    values = edata[1]\n",
    "    time_delta = edata[0]\n",
    "    meas_time = [Time(t + float(start_time) - 37, scale='tai',format='unix_tai') for t in time_delta]\n",
    "    times = [x.datetime64 for x in meas_time]\n",
    "    data[e_id].append(values)\n",
    "    data[e_id].append(time_delta)\n",
    "    data[e_id].append(pd.to_datetime(times))"
   ]
  },
  {
   "cell_type": "code",
   "execution_count": 126,
   "metadata": {},
   "outputs": [],
   "source": [
    "df = pd.DataFrame.from_dict(data)\n",
    "df.index = ['filen','mean','median','std','current','time_delta','time']"
   ]
  },
  {
   "cell_type": "code",
   "execution_count": 127,
   "metadata": {},
   "outputs": [
    {
     "data": {
      "text/html": [
       "<div>\n",
       "<style scoped>\n",
       "    .dataframe tbody tr th:only-of-type {\n",
       "        vertical-align: middle;\n",
       "    }\n",
       "\n",
       "    .dataframe tbody tr th {\n",
       "        vertical-align: top;\n",
       "    }\n",
       "\n",
       "    .dataframe thead th {\n",
       "        text-align: right;\n",
       "    }\n",
       "</style>\n",
       "<table border=\"1\" class=\"dataframe\">\n",
       "  <thead>\n",
       "    <tr style=\"text-align: right;\">\n",
       "      <th></th>\n",
       "      <th>2</th>\n",
       "      <th>4</th>\n",
       "    </tr>\n",
       "  </thead>\n",
       "  <tbody>\n",
       "    <tr>\n",
       "      <th>filen</th>\n",
       "      <td>1660669991.6161156_1660670021.6356387.fits</td>\n",
       "      <td>1660669991.6172926_1660670021.636493.fits</td>\n",
       "    </tr>\n",
       "    <tr>\n",
       "      <th>mean</th>\n",
       "      <td>-0.0</td>\n",
       "      <td>-0.0</td>\n",
       "    </tr>\n",
       "    <tr>\n",
       "      <th>median</th>\n",
       "      <td>-0.0</td>\n",
       "      <td>-0.0</td>\n",
       "    </tr>\n",
       "    <tr>\n",
       "      <th>std</th>\n",
       "      <td>0.0</td>\n",
       "      <td>0.0</td>\n",
       "    </tr>\n",
       "    <tr>\n",
       "      <th>current</th>\n",
       "      <td>[-1.7302e-12, -2.1118e-12, -2.4686e-12, -2.823...</td>\n",
       "      <td>[-4.4266e-10, -4.4427e-10, -4.4402e-10, -4.427...</td>\n",
       "    </tr>\n",
       "    <tr>\n",
       "      <th>time_delta</th>\n",
       "      <td>[0.0, 0.049979, 0.09996, 0.149969, 0.200001, 0...</td>\n",
       "      <td>[0.0, 0.049466, 0.099494, 0.149485, 0.199478, ...</td>\n",
       "    </tr>\n",
       "    <tr>\n",
       "      <th>time</th>\n",
       "      <td>DatetimeIndex(['2022-08-16 17:12:34.616115570'...</td>\n",
       "      <td>DatetimeIndex(['2022-08-16 17:12:34.617292643'...</td>\n",
       "    </tr>\n",
       "  </tbody>\n",
       "</table>\n",
       "</div>"
      ],
      "text/plain": [
       "                                                            2  \\\n",
       "filen              1660669991.6161156_1660670021.6356387.fits   \n",
       "mean                                                     -0.0   \n",
       "median                                                   -0.0   \n",
       "std                                                       0.0   \n",
       "current     [-1.7302e-12, -2.1118e-12, -2.4686e-12, -2.823...   \n",
       "time_delta  [0.0, 0.049979, 0.09996, 0.149969, 0.200001, 0...   \n",
       "time        DatetimeIndex(['2022-08-16 17:12:34.616115570'...   \n",
       "\n",
       "                                                            4  \n",
       "filen               1660669991.6172926_1660670021.636493.fits  \n",
       "mean                                                     -0.0  \n",
       "median                                                   -0.0  \n",
       "std                                                       0.0  \n",
       "current     [-4.4266e-10, -4.4427e-10, -4.4402e-10, -4.427...  \n",
       "time_delta  [0.0, 0.049466, 0.099494, 0.149485, 0.199478, ...  \n",
       "time        DatetimeIndex(['2022-08-16 17:12:34.617292643'...  "
      ]
     },
     "execution_count": 127,
     "metadata": {},
     "output_type": "execute_result"
    }
   ],
   "source": [
    "df"
   ]
  },
  {
   "cell_type": "code",
   "execution_count": 128,
   "metadata": {},
   "outputs": [
    {
     "data": {
      "text/plain": [
       "<matplotlib.legend.Legend at 0x7efdd635f2e0>"
      ]
     },
     "execution_count": 128,
     "metadata": {},
     "output_type": "execute_result"
    },
    {
     "data": {
      "image/png": "[encoded data removed]",
      "text/plain": [
       "<Figure size 864x432 with 1 Axes>"
      ]
     },
     "metadata": {
      "needs_background": "light"
     },
     "output_type": "display_data"
    }
   ],
   "source": [
    "plt.figure(figsize=(12,6))\n",
    "plt.plot(df[2].loc['time'],df[2].loc['current'], label='Solar Cell')\n",
    "plt.plot(df[4].loc['time'],df[4].loc['current'], label='CBP')\n",
    "plt.xlabel('Time delta')\n",
    "plt.ylabel('Current (A)')\n",
    "plt.legend()"
   ]
  },
  {
   "cell_type": "code",
   "execution_count": null,
   "metadata": {},
   "outputs": [],
   "source": []
  }
 ],
 "metadata": {
  "kernelspec": {
   "display_name": "LSST",
   "language": "python",
   "name": "lsst"
  },
  "language_info": {
   "codemirror_mode": {
    "name": "ipython",
    "version": 3
   },
   "file_extension": ".py",
   "mimetype": "text/x-python",
   "name": "python",
   "nbconvert_exporter": "python",
   "pygments_lexer": "ipython3",
   "version": "3.10.5"
  }
 },
 "nbformat": 4,
 "nbformat_minor": 4
}
