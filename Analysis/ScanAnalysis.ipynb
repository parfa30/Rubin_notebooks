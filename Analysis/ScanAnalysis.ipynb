{
 "cells": [
  {
   "cell_type": "code",
   "execution_count": 6,
   "id": "e9ff9849-c347-4178-a46f-1448d34a8a24",
   "metadata": {},
   "outputs": [],
   "source": [
    "%matplotlib inline\n",
    "import pandas as pd\n",
    "import numpy as np\n",
    "import matplotlib.pyplot as plt"
   ]
  },
  {
   "cell_type": "code",
   "execution_count": 15,
   "id": "da7098de-1b37-4536-b354-6c0078e71f6b",
   "metadata": {},
   "outputs": [],
   "source": [
    "bck_filen = 'initial_scan_20220304_background.csv'\n",
    "back_df = pd.read_csv(os.path.join('/home/parfa30/DATA/',bck_filen))"
   ]
  },
  {
   "cell_type": "code",
   "execution_count": 18,
   "id": "74e75779-a9cc-4a63-b5cd-2f5fe989de5b",
   "metadata": {},
   "outputs": [
    {
     "data": {
      "text/plain": [
       "Text(0.5, 1.0, 'Background')"
      ]
     },
     "execution_count": 18,
     "metadata": {},
     "output_type": "execute_result"
    },
    {
     "data": {
      "image/png": "[encoded data removed]",
      "text/plain": [
       "<Figure size 432x288 with 1 Axes>"
      ]
     },
     "metadata": {
      "needs_background": "light"
     },
     "output_type": "display_data"
    }
   ],
   "source": [
    "plt.plot(list(back_df['mean']))\n",
    "plt.title('Background')"
   ]
  },
  {
   "cell_type": "code",
   "execution_count": 19,
   "id": "df7e4de6-20fd-42b2-bd66-7dc48641b0ff",
   "metadata": {},
   "outputs": [
    {
     "data": {
      "text/html": [
       "<div>\n",
       "<style scoped>\n",
       "    .dataframe tbody tr th:only-of-type {\n",
       "        vertical-align: middle;\n",
       "    }\n",
       "\n",
       "    .dataframe tbody tr th {\n",
       "        vertical-align: top;\n",
       "    }\n",
       "\n",
       "    .dataframe thead th {\n",
       "        text-align: right;\n",
       "    }\n",
       "</style>\n",
       "<table border=\"1\" class=\"dataframe\">\n",
       "  <thead>\n",
       "    <tr style=\"text-align: right;\">\n",
       "      <th></th>\n",
       "      <th>Start</th>\n",
       "      <th>End</th>\n",
       "      <th>filen</th>\n",
       "      <th>ExpTime</th>\n",
       "      <th>X</th>\n",
       "      <th>Y</th>\n",
       "      <th>wave</th>\n",
       "      <th>mean</th>\n",
       "      <th>median</th>\n",
       "    </tr>\n",
       "  </thead>\n",
       "  <tbody>\n",
       "    <tr>\n",
       "      <th>0</th>\n",
       "      <td>2022-03-04 18:18:14.512781</td>\n",
       "      <td>2022-03-04 18:18:19.527089</td>\n",
       "      <td>/home/parfa30/DATA/electrometer_files/16464178...</td>\n",
       "      <td>5</td>\n",
       "      <td>1000.01001</td>\n",
       "      <td>500.00000</td>\n",
       "      <td>440</td>\n",
       "      <td>9.221643e-11</td>\n",
       "      <td>9.268200e-11</td>\n",
       "    </tr>\n",
       "    <tr>\n",
       "      <th>1</th>\n",
       "      <td>2022-03-04 18:18:32.056676</td>\n",
       "      <td>2022-03-04 18:18:37.071111</td>\n",
       "      <td>/home/parfa30/DATA/electrometer_files/16464179...</td>\n",
       "      <td>5</td>\n",
       "      <td>999.97998</td>\n",
       "      <td>599.98999</td>\n",
       "      <td>440</td>\n",
       "      <td>9.434478e-11</td>\n",
       "      <td>9.500600e-11</td>\n",
       "    </tr>\n",
       "    <tr>\n",
       "      <th>2</th>\n",
       "      <td>2022-03-04 18:18:49.583738</td>\n",
       "      <td>2022-03-04 18:18:54.598186</td>\n",
       "      <td>/home/parfa30/DATA/electrometer_files/16464179...</td>\n",
       "      <td>5</td>\n",
       "      <td>1000.01001</td>\n",
       "      <td>699.98999</td>\n",
       "      <td>440</td>\n",
       "      <td>1.077335e-10</td>\n",
       "      <td>1.076990e-10</td>\n",
       "    </tr>\n",
       "    <tr>\n",
       "      <th>3</th>\n",
       "      <td>2022-03-04 18:19:07.104967</td>\n",
       "      <td>2022-03-04 18:19:12.118268</td>\n",
       "      <td>/home/parfa30/DATA/electrometer_files/16464179...</td>\n",
       "      <td>5</td>\n",
       "      <td>1000.01001</td>\n",
       "      <td>800.00000</td>\n",
       "      <td>440</td>\n",
       "      <td>1.120299e-10</td>\n",
       "      <td>1.136960e-10</td>\n",
       "    </tr>\n",
       "    <tr>\n",
       "      <th>4</th>\n",
       "      <td>2022-03-04 18:19:24.618036</td>\n",
       "      <td>2022-03-04 18:19:29.632232</td>\n",
       "      <td>/home/parfa30/DATA/electrometer_files/16464179...</td>\n",
       "      <td>5</td>\n",
       "      <td>1000.01001</td>\n",
       "      <td>899.98999</td>\n",
       "      <td>440</td>\n",
       "      <td>9.933510e-11</td>\n",
       "      <td>9.836000e-11</td>\n",
       "    </tr>\n",
       "  </tbody>\n",
       "</table>\n",
       "</div>"
      ],
      "text/plain": [
       "                        Start                         End  \\\n",
       "0  2022-03-04 18:18:14.512781  2022-03-04 18:18:19.527089   \n",
       "1  2022-03-04 18:18:32.056676  2022-03-04 18:18:37.071111   \n",
       "2  2022-03-04 18:18:49.583738  2022-03-04 18:18:54.598186   \n",
       "3  2022-03-04 18:19:07.104967  2022-03-04 18:19:12.118268   \n",
       "4  2022-03-04 18:19:24.618036  2022-03-04 18:19:29.632232   \n",
       "\n",
       "                                               filen  ExpTime           X  \\\n",
       "0  /home/parfa30/DATA/electrometer_files/16464178...        5  1000.01001   \n",
       "1  /home/parfa30/DATA/electrometer_files/16464179...        5   999.97998   \n",
       "2  /home/parfa30/DATA/electrometer_files/16464179...        5  1000.01001   \n",
       "3  /home/parfa30/DATA/electrometer_files/16464179...        5  1000.01001   \n",
       "4  /home/parfa30/DATA/electrometer_files/16464179...        5  1000.01001   \n",
       "\n",
       "           Y  wave          mean        median  \n",
       "0  500.00000   440  9.221643e-11  9.268200e-11  \n",
       "1  599.98999   440  9.434478e-11  9.500600e-11  \n",
       "2  699.98999   440  1.077335e-10  1.076990e-10  \n",
       "3  800.00000   440  1.120299e-10  1.136960e-10  \n",
       "4  899.98999   440  9.933510e-11  9.836000e-11  "
      ]
     },
     "execution_count": 19,
     "metadata": {},
     "output_type": "execute_result"
    }
   ],
   "source": [
    "back_df.head()"
   ]
  },
  {
   "cell_type": "code",
   "execution_count": 16,
   "id": "78f92750-2eba-4822-ae5e-00c34d8eff3f",
   "metadata": {},
   "outputs": [],
   "source": [
    "background_val = np.mean(back_df['mean'])"
   ]
  },
  {
   "cell_type": "code",
   "execution_count": 20,
   "id": "03bef8c1-0a59-4944-a3d3-d30822958ccd",
   "metadata": {},
   "outputs": [
    {
     "name": "stderr",
     "output_type": "stream",
     "text": [
      "/opt/lsst/software/stack/conda/miniconda3-py38_4.9.2/envs/lsst-scipipe-2.0.0/lib/python3.8/site-packages/scipy/interpolate/_fitpack_impl.py:977: RuntimeWarning: No more knots can be added because the number of B-spline\n",
      "coefficients already exceeds the number of data points m.\n",
      "Probable causes: either s or m too small. (fp>s)\n",
      "\tkx,ky=1,1 nx,ny=10,7 m=36 fp=0.000000 s=0.000000\n",
      "  warnings.warn(RuntimeWarning(_iermess2[ierm][0] + _mess))\n"
     ]
    }
   ],
   "source": [
    "from scipy import interpolate\n",
    "b = interpolate.interp2d(list(back_df.X), list(back_df.Y), list(back_df['mean']))"
   ]
  },
  {
   "cell_type": "code",
   "execution_count": 28,
   "id": "05a0b9ae-8032-4046-8552-5be9ceba99c3",
   "metadata": {},
   "outputs": [],
   "source": [
    "back_ = b(xx, yy)"
   ]
  },
  {
   "cell_type": "code",
   "execution_count": 29,
   "id": "d3571798-861a-495e-bc56-f9f0b847e7bc",
   "metadata": {},
   "outputs": [],
   "source": [
    "data_df_2 = pd.read_csv(os.path.join('/home/parfa30/DATA/','initial_scan_20220304_2.csv'))\n",
    "data_df = pd.read_csv(os.path.join('/home/parfa30/DATA/','initial_scan_20220304.csv'))"
   ]
  },
  {
   "cell_type": "code",
   "execution_count": 32,
   "id": "27e35191-7d5d-493d-89e8-26d4b5f4b598",
   "metadata": {},
   "outputs": [
    {
     "data": {
      "text/plain": [
       "<matplotlib.legend.Legend at 0x7f22d685b940>"
      ]
     },
     "execution_count": 32,
     "metadata": {},
     "output_type": "execute_result"
    },
    {
     "data": {
      "image/png": "[encoded data removed]",
      "text/plain": [
       "<Figure size 864x288 with 1 Axes>"
      ]
     },
     "metadata": {
      "needs_background": "light"
     },
     "output_type": "display_data"
    }
   ],
   "source": [
    "plt.figure(figsize=(12,4))\n",
    "plt.plot(data_df_2['mean'],'x',label='second')\n",
    "plt.plot(data_df['mean']-background,'x',label='first')\n",
    "plt.axhline(background)\n",
    "plt.legend()"
   ]
  },
  {
   "cell_type": "code",
   "execution_count": null,
   "id": "e773c67c-70d2-4a0e-8a68-e7d0af903d47",
   "metadata": {},
   "outputs": [],
   "source": []
  }
 ],
 "metadata": {
  "kernelspec": {
   "display_name": "LSST",
   "language": "python",
   "name": "lsst"
  },
  "language_info": {
   "codemirror_mode": {
    "name": "ipython",
    "version": 3
   },
   "file_extension": ".py",
   "mimetype": "text/x-python",
   "name": "python",
   "nbconvert_exporter": "python",
   "pygments_lexer": "ipython3",
   "version": "3.8.13"
  }
 },
 "nbformat": 4,
 "nbformat_minor": 5
}
